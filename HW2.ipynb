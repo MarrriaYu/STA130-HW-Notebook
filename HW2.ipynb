{
 "cells": [
  {
   "cell_type": "code",
   "execution_count": 1,
   "id": "1b430e7d",
   "metadata": {
    "scrolled": true
   },
   "outputs": [
    {
     "data": {
      "text/plain": [
       "0.66682"
      ]
     },
     "execution_count": 1,
     "metadata": {},
     "output_type": "execute_result"
    }
   ],
   "source": [
    "# 1.ChatBot History: https://chatgpt.com/share/66ecd36c-c108-8000-b3c5-b47f98da4991\n",
    "# Cell to demo what the above code does\n",
    "# Add more code cells to keep a record of the demos\n",
    "# Monte Hall Simulation Code -- not the only way to code this, but it's what Prof. Schwartz came up with...\n",
    "\n",
    "import numpy as np\n",
    "all_door_options = (1,2,3)  # tuple\n",
    "my_door_choice = 1  # 1,2,3\n",
    "i_won = 0\n",
    "reps = 100000\n",
    "for i in range(reps):\n",
    "    secret_winning_door = np.random.choice(all_door_options)\n",
    "    all_door_options_list = list(all_door_options)\n",
    "    # take the secret_winning_door, so we don't show it as a \"goat\" losing door\n",
    "    all_door_options_list.remove(secret_winning_door)\n",
    "    try:\n",
    "        # if my_door_choice was secret_winning_door then it's already removed\n",
    "        all_door_options_list.remove(my_door_choice)\n",
    "    except:\n",
    "        pass\n",
    "    # show a \"goat\" losing door and remove it\n",
    "    goat_door_reveal = np.random.choice(all_door_options_list)\n",
    "    all_door_options_list.remove(goat_door_reveal)\n",
    "\n",
    "    # put the secret_winning_door back in if it wasn't our choice\n",
    "    # we previously removed it, so it would be shown as a  \"goat\" losing door\n",
    "    if secret_winning_door != my_door_choice:\n",
    "        all_door_options_list.append(secret_winning_door)\n",
    "    # if secret_winning_door was our choice then all that's left in the list is a \"goat\" losing door\n",
    "    # if secret_winning_door wasn't our choice then it's all that will be left in the list\n",
    "\n",
    "    # swap strategy\n",
    "    my_door_choice = all_door_options_list[0]\n",
    "\n",
    "    if my_door_choice == secret_winning_door:\n",
    "        i_won += 1\n",
    "\n",
    "i_won/reps"
   ]
  },
  {
   "cell_type": "code",
   "execution_count": 2,
   "id": "25b32173",
   "metadata": {},
   "outputs": [
    {
     "name": "stdout",
     "output_type": "stream",
     "text": [
      "Probability of winning by switching: 0.66661\n"
     ]
    }
   ],
   "source": [
    "# 2.1\n",
    "import numpy as np\n",
    "\n",
    "doors = [1, 2, 3]  \n",
    "reps = 100000      \n",
    "wins = 0           \n",
    "\n",
    "for _ in range(reps):\n",
    "    winning_door = np.random.choice(doors)\n",
    "    \n",
    "    initial_choice = 1\n",
    "    \n",
    "    available_doors = [door for door in doors if door != initial_choice and door != winning_door]\n",
    "    monty_opens = np.random.choice(available_doors)\n",
    "    \n",
    "    remaining_door = [door for door in doors if door != initial_choice and door != monty_opens][0]\n",
    "    \n",
    "    if remaining_door == winning_door:\n",
    "        wins += 1\n",
    "\n",
    "win_probability = wins / reps\n",
    "print(f\"Probability of winning by switching: {win_probability:.5f}\")"
   ]
  },
  {
   "cell_type": "markdown",
   "id": "83b44867",
   "metadata": {},
   "source": [
    "2.2\n",
    "I prefer the simplified code suggested by the Chatbot. Because the simplified code is much shorter and direct, with fewer lines of code. The logic is clear and straightforward without intermediate steps that might distract from the core of the problem, and no error handling or list removals, reducing cognitive load when reading."
   ]
  },
  {
   "cell_type": "code",
   "execution_count": 3,
   "id": "0b0ebf80",
   "metadata": {},
   "outputs": [
    {
     "name": "stdout",
     "output_type": "stream",
     "text": [
      "Probability of winning by switching: 0.66394\n"
     ]
    }
   ],
   "source": [
    "# 3.\n",
    "import numpy as np\n",
    "\n",
    "# Simulation parameters\n",
    "doors = [1, 2, 3]  # The three doors\n",
    "reps = 100000      # Number of repetitions\n",
    "wins = 0           # Counter for wins when switching\n",
    "\n",
    "# Run the simulation\n",
    "for _ in range(reps):\n",
    "    # Randomly assign the winning door\n",
    "    winning_door = np.random.choice(doors)\n",
    "    \n",
    "    # The player always picks Door 1\n",
    "    initial_choice = 1\n",
    "    \n",
    "    # Monty opens a door that is not the winning door and not the player's initial choice\n",
    "    available_doors = [door for door in doors if door != initial_choice and door != winning_door]\n",
    "    monty_opens = np.random.choice(available_doors)\n",
    "    \n",
    "    # The player switches to the remaining unopened door\n",
    "    remaining_door = [door for door in doors if door != initial_choice and door != monty_opens][0]\n",
    "    \n",
    "    # Check if the switched door is the winning door\n",
    "    if remaining_door == winning_door:\n",
    "        wins += 1\n",
    "\n",
    "# Calculate the probability of winning by switching\n",
    "win_probability = wins / reps\n",
    "print(f\"Probability of winning by switching: {win_probability:.5f}\")"
   ]
  },
  {
   "cell_type": "code",
   "execution_count": 8,
   "id": "91e30bc1",
   "metadata": {},
   "outputs": [
    {
     "name": "stdout",
     "output_type": "stream",
     "text": [
      "Word counts: {'hello': 2, 'world': 2, 'there': 1}\n",
      "Next word probabilities: {'hello': {'world': 1, 'there': 1}, 'world': {'hello': 2}, 'there': {'world': 1}}\n"
     ]
    }
   ],
   "source": [
    "# 4.ChatBot history: https://chatgpt.com/share/66ece7fe-c080-8000-b88a-0c757c322a60\n",
    "# Example list of words (your training data)\n",
    "words = [\"hello\", \"world\", \"hello\", \"there\", \"world\", \"hello\"]\n",
    "\n",
    "# Data structures\n",
    "word_used = {}\n",
    "next_word = {}\n",
    "\n",
    "# Building the Markov model\n",
    "for i, word in enumerate(words[:-1]):\n",
    "    if word in word_used:\n",
    "        word_used[word] += 1\n",
    "    else:\n",
    "        word_used[word] = 1\n",
    "        next_word[word] = {}\n",
    "\n",
    "    if words[i+1] in next_word[word]:\n",
    "        next_word[word][words[i+1]] += 1\n",
    "    else:\n",
    "        next_word[word][words[i+1]] = 1\n",
    "\n",
    "# Print results\n",
    "print(\"Word counts:\", word_used)\n",
    "print(\"Next word probabilities:\", next_word)"
   ]
  },
  {
   "cell_type": "markdown",
   "id": "06f433e8",
   "metadata": {},
   "source": [
    "5.1\n",
    "The main changes are data structures, loop through words, counting bigrams, and counting subsequent words.\n",
    "This extension enhances the chatbot's ability to generate text by considering the context provided by pairs of consecutive words, allowing for more coherent and contextually appropriate responses.\n",
    "\n",
    "5.2 ChatBot history: https://chatgpt.com/share/66eced90-9c44-8000-b694-c388451c7bec\n",
    "This code builds a model that tracks pairs of consecutive words (bigrams) and how often certain words follow those bigrams. This approach allows for a richer context when generating text, as it considers the relationship between two words rather than just one, resulting in more coherent outputs.\n",
    "\n",
    "5.3 ChatBot history: https://chatgpt.com/share/66eced76-c488-8000-bbb1-e357f199a827\n",
    "This extension adds functionality to your Markovian ChatBot by incorporating character-specific context into the word tracking. Here’s a breakdown of what each part does: 1.Character Tracking 2.Nested Dictionaries 3.Loop Through Words."
   ]
  },
  {
   "cell_type": "markdown",
   "id": "b5073839",
   "metadata": {},
   "source": [
    "6.1\n",
    "The ChatBot was helpful almost immediately after posing the question. It provided clear explanation, probability analysis and examples.\n",
    "\n",
    "6.2\n",
    "No, I don't think that interacting with ChatBot to try to figure things out was frustrating or unhelpful, since it can always provide me effecient and useful responses.\n",
    "\n",
    "6.3\n",
    "From my perspective, ChatBots are very helpful as tools to help me understand code, and have saved lots of time for me."
   ]
  },
  {
   "cell_type": "markdown",
   "id": "88c1010f",
   "metadata": {},
   "source": [
    "7.\n",
    "After these weeks of learning and use, my perception of AI-driven assistance tools has evolved from skepticism to appreciation. I see them as powerful allies in the learning process, particularly in coding, statistics, and data science, helping to demystify complex topics and enabling a more interactive and engaging educational experience. This evolution underscores the potential of AI to enhance learning outcomes and facilitate a deeper connection with challenging subjects."
   ]
  },
  {
   "cell_type": "markdown",
   "id": "16a7833c",
   "metadata": {},
   "source": [
    "8.1\n",
    "In the data science industry, the interplay of these skills enhances employability and effectiveness. Companies value professionals who can learn quickly, communicate effectively, code proficiently, and analyze data rigorously. Building a strong foundation in these areas can lead to diverse and rewarding career opportunities in the evolving landscape of data science.\n",
    "\n",
    "8.2\n",
    "I can certainly be a successful teacher without coding or advanced data analysis skills. However, if I incorporate some technology and analytical skills, it can enhance your teaching effectiveness and open additional avenues, such as educational technology or curriculum development. Building a strong foundation in the skills mentioned above will help me thrive in a teaching role.\n",
    "\n",
    "8.3\n",
    "1️⃣Relevance of Skills in the Modern World:\n",
    "Discussed the importance of learning and adaptability, communication, coding, and statistics/data analysis, particularly in the data science industry.\n",
    "Emphasized that adaptability and continuous learning are vital due to rapid technological changes.\n",
    "Highlighted the significance of communication skills for conveying complex data insights.\n",
    "Noted that coding is essential for data manipulation and analysis.\n",
    "Stressed the importance of statistical knowledge for interpreting data correctly.\n",
    "2️⃣Being a Statistician or Data Scientist Without Coding:\n",
    "Acknowledged that while coding and data analysis are important, roles exist where these skills can be minimal.\n",
    "Identified valuable skills for a statistician, including statistical knowledge, critical thinking, attention to detail, communication skills, problem-solving, data visualization, and domain knowledge.\n",
    "Suggested potential roles like statistical consultant or research analyst that may require less coding.\n",
    "3️⃣Skills for Being a Teacher:\n",
    "Outlined key skills valuable for teaching, including communication, empathy, organization, adaptability, subject knowledge, assessment skills, engagement strategies, collaboration, and technology proficiency.\n",
    "Emphasized that a strong foundation in these skills can lead to effective teaching, with some technology skills enhancing effectiveness further.\n",
    "\n",
    "8.4\n",
    "By focusing on these areas, I can build a strong foundation for my future career, whether in data science, teaching, or a combination of both. This reflective process has helped clarify my aspirations and the skills needed to achieve them.\n",
    "\n",
    "8.5\n",
    "Seek Industry Experts, Research Specific Roles, Hands-On Experience, and Enroll in Specialized Courses."
   ]
  },
  {
   "cell_type": "markdown",
   "id": "c9b90072",
   "metadata": {},
   "source": [
    "9.Yes, I have."
   ]
  }
 ],
 "metadata": {
  "kernelspec": {
   "display_name": "Python 3 (ipykernel)",
   "language": "python",
   "name": "python3"
  },
  "language_info": {
   "codemirror_mode": {
    "name": "ipython",
    "version": 3
   },
   "file_extension": ".py",
   "mimetype": "text/x-python",
   "name": "python",
   "nbconvert_exporter": "python",
   "pygments_lexer": "ipython3",
   "version": "3.11.6"
  }
 },
 "nbformat": 4,
 "nbformat_minor": 5
}
